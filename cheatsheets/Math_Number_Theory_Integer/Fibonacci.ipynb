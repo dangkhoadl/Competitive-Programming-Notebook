{
 "cells": [
  {
   "cell_type": "markdown",
   "metadata": {},
   "source": [
    "## Fibonacci\n",
    "\n",
    "#### Series\n",
    "- 0, 1, 1, 2, 3, 5, 8, 13, 21, 34, 55, 89, 144,...\n",
    "$$F_0 = 0$$\n",
    "$$F_1 = 1$$\n",
    "$$F_n = F_{n-1} + F_{n-2}$$\n",
    "\n",
    "#### Calculate $F_n \\text{ in } O(k^3log(n))$\n",
    "```\n",
    "We have 2 equations:\n",
    "        f(n)   = f(n-1) + f(n-2)\n",
    "        f(n-1) = f(n-1)\n",
    "\n",
    "By turning them into matrix realtion. we get:\n",
    "        | f(n)   |     | 1 1 |     | f(n-1) |\n",
    "        | f(n-1) |  =  | 1 0 |  *  | f(n-2) |\n",
    "\n",
    "Since we can compute an matrix exponent by O(log(n)), Simplify the relations into exponents\n",
    "        | f(n)   |     | 1 1 |^(n-1)     | f(1) |\n",
    "        | f(n-1) |  =  | 1 0 |       *   | f(0) |\n",
    "```\n",
    "\n",
    "#### Calculate $F_n \\text{ in } O(1)$\n",
    "\n",
    "$$F_n = \\frac{\\left( \\frac{1+\\sqrt{5}}{2} \\right)^n - \\left( \\frac{1-\\sqrt{5}}{2} \\right)^n }{\\sqrt{5}}$$\n",
    "\n",
    "\n",
    "## Sum of n Fibonacci\n",
    "$$F_0 + F_1 + F_2 + ... + F_n = F_{n+2} - 1$$"
   ]
  },
  {
   "cell_type": "markdown",
   "metadata": {},
   "source": [
    "## [Pisano Period](https://en.wikipedia.org/wiki/Pisano_period)\n",
    "#### Definition\n",
    "- $\\pi(n)$: The period of Fibonacci series mod n\n",
    "\n",
    "- Example\n",
    "    + Fibonacci series = 0, 1, 1, 2, 3, 5, 8, 13, 21, 34, 55, 89, 144,...\n",
    "    + Fibonacci series % 3 = 0, 1, 1, 2, 0, 2, 2, 1, 0, 1, 1, 2, 0, 2, 2, 1, 0, 1, 1,...\n",
    "    + the pattern 0, 1, 1, 2, 0, 2, 2, 1, length = 8 repeated\n",
    "        + => $\\pi(3)$ = 8\n",
    "\n",
    "- Algorithm\n",
    "```C++\n",
    "long long get_pisano_period(long long m) {\n",
    "    long long a = 0, b = 1, c = a + b;\n",
    "    for (int i = 0; i < m * m; i++) {\n",
    "        c = (a + b) % m;\n",
    "        a = b;\n",
    "        b = c;\n",
    "        if (a == 0 && b == 1) return i + 1;\n",
    "    }\n",
    "}\n",
    "```\n"
   ]
  }
 ],
 "metadata": {
  "kernelspec": {
   "display_name": "Python 3.7",
   "language": "python",
   "name": "py37"
  },
  "language_info": {
   "codemirror_mode": {
    "name": "ipython",
    "version": 3
   },
   "file_extension": ".py",
   "mimetype": "text/x-python",
   "name": "python",
   "nbconvert_exporter": "python",
   "pygments_lexer": "ipython3",
   "version": "3.7.9"
  }
 },
 "nbformat": 4,
 "nbformat_minor": 2
}
