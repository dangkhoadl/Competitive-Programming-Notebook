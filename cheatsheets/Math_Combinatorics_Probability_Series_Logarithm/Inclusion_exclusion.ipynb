{
 "cells": [
  {
   "cell_type": "markdown",
   "metadata": {},
   "source": [
    "## 2 sets\n",
    "$$|A\\cup B| = |A| + |B| - |A\\cap B|$$\n",
    "\n",
    "<img src=\"./img/4.jpg\" width=\"200\"/>\n",
    "\n",
    "## 3 sets\n",
    "$$|A\\cup B\\cup C| = |A| + |B| + |C| - |A\\cap B|- |A\\cap C|- |B\\cap C| + |A\\cap B\\cap C|$$\n",
    "   + $|A\\cup B\\cup C|$: at least A or B or C\n",
    "   + $|A|$: Only A\n",
    "   + $|A\\cap B|$: Both A and B\n",
    "   + $|A\\cap B\\cap C|$: All A and B and C\n",
    "    \n",
    "<img src=\"./img/5.jpg\" width=\"200\"/>\n"
   ]
  }
 ],
 "metadata": {
  "kernelspec": {
   "display_name": "Python 3.7",
   "language": "python",
   "name": "py37"
  },
  "language_info": {
   "codemirror_mode": {
    "name": "ipython",
    "version": 3
   },
   "file_extension": ".py",
   "mimetype": "text/x-python",
   "name": "python",
   "nbconvert_exporter": "python",
   "pygments_lexer": "ipython3",
   "version": "3.7.9"
  }
 },
 "nbformat": 4,
 "nbformat_minor": 2
}
